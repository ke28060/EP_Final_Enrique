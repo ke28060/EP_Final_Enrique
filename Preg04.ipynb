{
 "cells": [
  {
   "cell_type": "code",
   "execution_count": 3,
   "id": "3ff2c874",
   "metadata": {},
   "outputs": [
    {
     "name": "stdout",
     "output_type": "stream",
     "text": [
      "Ganancias: 5000\n",
      "500.0\n"
     ]
    }
   ],
   "source": [
    "n=int(input(\"Ganancias: \"))\n",
    "\n",
    "if(n>0 and n<=1000 ):\n",
    "  print(0.05*n)\n",
    "elif (n>1000 and n<=1500):\n",
    "  print(0.07*n)\n",
    "elif (n>1500 and n<=2000):\n",
    "  print(0.08*n)\n",
    "elif (n>2000 and n<=5000):\n",
    "  print(0.1*n)\n",
    "elif (n>5000):\n",
    "  print(0.15*n)"
   ]
  },
  {
   "cell_type": "code",
   "execution_count": null,
   "id": "613d9652",
   "metadata": {},
   "outputs": [],
   "source": []
  },
  {
   "cell_type": "code",
   "execution_count": null,
   "id": "80556a17",
   "metadata": {},
   "outputs": [],
   "source": []
  }
 ],
 "metadata": {
  "kernelspec": {
   "display_name": "Python 3 (ipykernel)",
   "language": "python",
   "name": "python3"
  },
  "language_info": {
   "codemirror_mode": {
    "name": "ipython",
    "version": 3
   },
   "file_extension": ".py",
   "mimetype": "text/x-python",
   "name": "python",
   "nbconvert_exporter": "python",
   "pygments_lexer": "ipython3",
   "version": "3.9.12"
  }
 },
 "nbformat": 4,
 "nbformat_minor": 5
}
