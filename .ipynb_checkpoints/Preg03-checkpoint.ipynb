{
 "cells": [
  {
   "cell_type": "code",
   "execution_count": 1,
   "id": "70bd508a",
   "metadata": {},
   "outputs": [
    {
     "name": "stdout",
     "output_type": "stream",
     "text": [
      "Numero del bus 1\n",
      "Recorrido en kilometros 24\n",
      "Cantidad de pasajeros 15\n",
      "Costo del pasaje por persona: 48\n",
      "Costo total del viaje:  720\n"
     ]
    }
   ],
   "source": [
    "bus = int(input(\"Numero del bus \"))\n",
    "dis = int(input(\"Recorrido en kilometros \"))\n",
    "pas = int(input(\"Cantidad de pasajeros \"))\n",
    "\n",
    "if bus == 1:\n",
    "  if pas <20:\n",
    "    pas1=dis*2\n",
    "    total=pas1*pas\n",
    "    print(\"Costo del pasaje por persona:\",pas1)\n",
    "    print(\"Costo total del viaje: \",total)\n",
    "  else: \n",
    "    print(\"excede la cantidad de pasajeros\")\n",
    "elif bus == 2:\n",
    "  if pas <25:\n",
    "    pas1=dis*2.5\n",
    "    total=pas1*pas\n",
    "    print(\"Costo del pasaje por persona:\",pas1)\n",
    "    print(\"Costo total del viaje: \",total)\n",
    "  else: \n",
    "    print(\"excede la cantidad de pasajeros\")\n",
    "elif bus == 3:\n",
    "  if pas < 30:\n",
    "    pas1=dis*3\n",
    "    total=pas1*pas\n",
    "    print(\"Costo del pasaje por persona:\",pas1)\n",
    "    print(\"Costo total del viaje: \",total)\n",
    "  else: \n",
    "    print(\"excede la cantidad de pasajeros\")\n",
    "else:\n",
    "  print(\"No se encuentra carro\")"
   ]
  },
  {
   "cell_type": "code",
   "execution_count": null,
   "id": "260d956c",
   "metadata": {},
   "outputs": [],
   "source": []
  }
 ],
 "metadata": {
  "kernelspec": {
   "display_name": "Python 3 (ipykernel)",
   "language": "python",
   "name": "python3"
  },
  "language_info": {
   "codemirror_mode": {
    "name": "ipython",
    "version": 3
   },
   "file_extension": ".py",
   "mimetype": "text/x-python",
   "name": "python",
   "nbconvert_exporter": "python",
   "pygments_lexer": "ipython3",
   "version": "3.9.12"
  }
 },
 "nbformat": 4,
 "nbformat_minor": 5
}
